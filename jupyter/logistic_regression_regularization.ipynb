{
 "cells": [
  {
   "cell_type": "code",
   "execution_count": 25,
   "metadata": {},
   "outputs": [],
   "source": [
    "import numpy as np\n",
    "import pandas as pd\n",
    "import matplotlib.pyplot as plt"
   ]
  },
  {
   "cell_type": "code",
   "execution_count": 26,
   "metadata": {},
   "outputs": [],
   "source": [
    "def sigmoid(x):\n",
    "    return 1 / (1 + np.exp(-x))"
   ]
  },
  {
   "cell_type": "code",
   "execution_count": 27,
   "metadata": {},
   "outputs": [],
   "source": [
    "def h(x, theta):\n",
    "    return sigmoid(x.dot(theta))"
   ]
  },
  {
   "cell_type": "code",
   "execution_count": 37,
   "metadata": {},
   "outputs": [],
   "source": [
    "def loss(x, y, theta):\n",
    "    n = x.shape[0]\n",
    "    return - (1 / n) * np.sum(y * np.log(h(x, theta)) + (1 - y) * np.log(1 - h(x, theta)))"
   ]
  },
  {
   "cell_type": "code",
   "execution_count": 80,
   "metadata": {},
   "outputs": [],
   "source": [
    "def transform_x(x, degree=2):\n",
    "    return np.column_stack([x**i for i in range(1, degree + 1)])"
   ]
  },
  {
   "cell_type": "code",
   "execution_count": 29,
   "metadata": {},
   "outputs": [],
   "source": [
    "def gradient(x, y, theta):\n",
    "    n = x.shape[0]\n",
    "    grad_theta = np.zeros(theta.shape[0])\n",
    "    for j in range(theta.shape[0]):\n",
    "        grad_theta[j] = np.sum((h(x, theta) - y) * x[:, j])\n",
    "        \n",
    "    return grad_theta"
   ]
  },
  {
   "cell_type": "code",
   "execution_count": 2,
   "metadata": {},
   "outputs": [
    {
     "data": {
      "image/png": "[encoded data removed]",
      "text/plain": [
       "<Figure size 288x288 with 1 Axes>"
      ]
     },
     "metadata": {
      "needs_background": "light"
     },
     "output_type": "display_data"
    }
   ],
   "source": [
    "x = np.linspace(-10, 10, 100)\n",
    "y = np.linspace(-10, 10, 100)\n",
    "\n",
    "X, Y = np.meshgrid(x, y)\n",
    "\n",
    "F = X*Y - 2*X - 10*Y\n",
    "\n",
    "plt.figure(figsize=(4, 4))\n",
    "plt.contour(X, Y, F, [0])\n",
    "plt.show()"
   ]
  },
  {
   "cell_type": "code",
   "execution_count": 3,
   "metadata": {},
   "outputs": [
    {
     "data": {
      "text/html": [
       "<div>\n",
       "<style scoped>\n",
       "    .dataframe tbody tr th:only-of-type {\n",
       "        vertical-align: middle;\n",
       "    }\n",
       "\n",
       "    .dataframe tbody tr th {\n",
       "        vertical-align: top;\n",
       "    }\n",
       "\n",
       "    .dataframe thead th {\n",
       "        text-align: right;\n",
       "    }\n",
       "</style>\n",
       "<table border=\"1\" class=\"dataframe\">\n",
       "  <thead>\n",
       "    <tr style=\"text-align: right;\">\n",
       "      <th></th>\n",
       "      <th>fixed acidity</th>\n",
       "      <th>volatile acidity</th>\n",
       "      <th>citric acid</th>\n",
       "      <th>residual sugar</th>\n",
       "      <th>chlorides</th>\n",
       "      <th>free sulfur dioxide</th>\n",
       "      <th>total sulfur dioxide</th>\n",
       "      <th>density</th>\n",
       "      <th>pH</th>\n",
       "      <th>sulphates</th>\n",
       "      <th>alcohol</th>\n",
       "      <th>quality</th>\n",
       "      <th>result</th>\n",
       "    </tr>\n",
       "  </thead>\n",
       "  <tbody>\n",
       "    <tr>\n",
       "      <th>0</th>\n",
       "      <td>7.4</td>\n",
       "      <td>0.70</td>\n",
       "      <td>0.00</td>\n",
       "      <td>1.9</td>\n",
       "      <td>0.076</td>\n",
       "      <td>11.0</td>\n",
       "      <td>34.0</td>\n",
       "      <td>0.9978</td>\n",
       "      <td>3.51</td>\n",
       "      <td>0.56</td>\n",
       "      <td>9.4</td>\n",
       "      <td>5</td>\n",
       "      <td>0</td>\n",
       "    </tr>\n",
       "    <tr>\n",
       "      <th>1</th>\n",
       "      <td>7.8</td>\n",
       "      <td>0.88</td>\n",
       "      <td>0.00</td>\n",
       "      <td>2.6</td>\n",
       "      <td>0.098</td>\n",
       "      <td>25.0</td>\n",
       "      <td>67.0</td>\n",
       "      <td>0.9968</td>\n",
       "      <td>3.20</td>\n",
       "      <td>0.68</td>\n",
       "      <td>9.8</td>\n",
       "      <td>5</td>\n",
       "      <td>0</td>\n",
       "    </tr>\n",
       "    <tr>\n",
       "      <th>2</th>\n",
       "      <td>7.8</td>\n",
       "      <td>0.76</td>\n",
       "      <td>0.04</td>\n",
       "      <td>2.3</td>\n",
       "      <td>0.092</td>\n",
       "      <td>15.0</td>\n",
       "      <td>54.0</td>\n",
       "      <td>0.9970</td>\n",
       "      <td>3.26</td>\n",
       "      <td>0.65</td>\n",
       "      <td>9.8</td>\n",
       "      <td>5</td>\n",
       "      <td>0</td>\n",
       "    </tr>\n",
       "    <tr>\n",
       "      <th>3</th>\n",
       "      <td>11.2</td>\n",
       "      <td>0.28</td>\n",
       "      <td>0.56</td>\n",
       "      <td>1.9</td>\n",
       "      <td>0.075</td>\n",
       "      <td>17.0</td>\n",
       "      <td>60.0</td>\n",
       "      <td>0.9980</td>\n",
       "      <td>3.16</td>\n",
       "      <td>0.58</td>\n",
       "      <td>9.8</td>\n",
       "      <td>6</td>\n",
       "      <td>1</td>\n",
       "    </tr>\n",
       "    <tr>\n",
       "      <th>4</th>\n",
       "      <td>7.4</td>\n",
       "      <td>0.70</td>\n",
       "      <td>0.00</td>\n",
       "      <td>1.9</td>\n",
       "      <td>0.076</td>\n",
       "      <td>11.0</td>\n",
       "      <td>34.0</td>\n",
       "      <td>0.9978</td>\n",
       "      <td>3.51</td>\n",
       "      <td>0.56</td>\n",
       "      <td>9.4</td>\n",
       "      <td>5</td>\n",
       "      <td>0</td>\n",
       "    </tr>\n",
       "  </tbody>\n",
       "</table>\n",
       "</div>"
      ],
      "text/plain": [
       "   fixed acidity  volatile acidity  citric acid  residual sugar  chlorides  \\\n",
       "0            7.4              0.70         0.00             1.9      0.076   \n",
       "1            7.8              0.88         0.00             2.6      0.098   \n",
       "2            7.8              0.76         0.04             2.3      0.092   \n",
       "3           11.2              0.28         0.56             1.9      0.075   \n",
       "4            7.4              0.70         0.00             1.9      0.076   \n",
       "\n",
       "   free sulfur dioxide  total sulfur dioxide  density    pH  sulphates  \\\n",
       "0                 11.0                  34.0   0.9978  3.51       0.56   \n",
       "1                 25.0                  67.0   0.9968  3.20       0.68   \n",
       "2                 15.0                  54.0   0.9970  3.26       0.65   \n",
       "3                 17.0                  60.0   0.9980  3.16       0.58   \n",
       "4                 11.0                  34.0   0.9978  3.51       0.56   \n",
       "\n",
       "   alcohol  quality  result  \n",
       "0      9.4        5       0  \n",
       "1      9.8        5       0  \n",
       "2      9.8        5       0  \n",
       "3      9.8        6       1  \n",
       "4      9.4        5       0  "
      ]
     },
     "execution_count": 3,
     "metadata": {},
     "output_type": "execute_result"
    }
   ],
   "source": [
    "data = pd.read_csv('resources/winequality-red.csv')\n",
    "data.head()"
   ]
  },
  {
   "cell_type": "code",
   "execution_count": 129,
   "metadata": {},
   "outputs": [],
   "source": [
    "X = data.values[:, :-1]\n",
    "Y = data.values[:, -1]\n",
    "X = np.column_stack([np.ones(X.shape[0]), X])\n",
    "\n",
    "limit = int(X.shape[0]*.8)\n",
    "\n",
    "train_x = X[:limit]\n",
    "val_x = X[limit:]\n",
    "\n",
    "train_y = Y[:limit]\n",
    "val_y = Y[limit:]\n",
    "\n",
    "train_x = transform_x(train_x, 10)\n",
    "val_x = transform_x(val_x, 10)\n",
    "\n",
    "# ======= Normalization =======\n",
    "max_train_x = np.max(train_x, axis=0)\n",
    "max_val_x = np.max(val_x, axis=0)\n",
    "\n",
    "min_train_x = np.min(train_x, axis=0)\n",
    "min_val_x = np.min(val_x, axis=0)\n",
    "\n",
    "norm_train_x = train_x / (max_train_x - min_train_x + 1)\n",
    "norm_val_x = val_x / (max_val_x - min_val_x + 1)"
   ]
  },
  {
   "cell_type": "code",
   "execution_count": 131,
   "metadata": {},
   "outputs": [
    {
     "data": {
      "image/png": "[encoded data removed]",
      "text/plain": [
       "<Figure size 432x288 with 1 Axes>"
      ]
     },
     "metadata": {
      "needs_background": "light"
     },
     "output_type": "display_data"
    }
   ],
   "source": [
    "Epoch = 3000\n",
    "alpha = 1.8e-4\n",
    "\n",
    "theta = 1e-3*np.random.random(train_x.shape[1])\n",
    "\n",
    "_train_loss = []\n",
    "_val_loss = []\n",
    "\n",
    "for epoch in range(Epoch):\n",
    "    theta = theta - alpha * gradient(norm_train_x, train_y, theta)\n",
    "    _train_l = loss(norm_train_x, train_y, theta)\n",
    "    _val_l = loss(norm_val_x, val_y, theta)\n",
    "    _train_loss.append(_train_l)\n",
    "    _val_loss.append(_val_l)\n",
    "    \n",
    "plt.plot(_train_loss)\n",
    "plt.plot(_val_loss)\n",
    "plt.show()"
   ]
  },
  {
   "cell_type": "code",
   "execution_count": 124,
   "metadata": {},
   "outputs": [
    {
     "name": "stdout",
     "output_type": "stream",
     "text": [
      "1.0 0.9998614376637757\n",
      "1.0 0.8969097451207589\n",
      "1.0 0.8969097451207589\n",
      "1.0 0.9239173437519369\n",
      "1.0 0.7812126975341976\n",
      "0.0 0.10642701347837626\n",
      "0.0 0.04477643762007472\n",
      "1.0 0.9791953514367192\n",
      "0.0 0.35003098922476505\n",
      "0.0 0.015916321398526497\n",
      "0.0 0.015916321398526497\n",
      "0.0 0.10712486217449808\n",
      "1.0 0.880428431450294\n",
      "1.0 0.9654012886273969\n",
      "0.0 0.0009311632160325436\n",
      "1.0 0.880428431450294\n",
      "0.0 0.039511205052005685\n",
      "0.0 0.039511205052005685\n",
      "1.0 0.9675889487710365\n",
      "1.0 0.9756329048505487\n",
      "0.0 5.217223883243506e-06\n",
      "1.0 0.941913227319206\n",
      "1.0 0.8357666895177971\n",
      "1.0 0.9530940243555588\n",
      "0.0 0.06441780956501217\n",
      "0.0 0.028320316208976053\n",
      "0.0 0.019280779041765377\n",
      "0.0 0.010271897200186753\n",
      "0.0 0.0013634568200538769\n",
      "0.0 0.010271897200186753\n",
      "0.0 0.03528417562074953\n",
      "0.0 0.019280779041765377\n",
      "1.0 0.9821252444074635\n",
      "0.0 0.023602110481131165\n",
      "1.0 0.8528689091626253\n",
      "1.0 0.8426946052782084\n",
      "1.0 0.7077233350918115\n",
      "1.0 0.8384021734042509\n",
      "1.0 0.9423823006377762\n",
      "1.0 0.7077233350918115\n",
      "1.0 0.8263419334218045\n",
      "0.0 0.011937710107406524\n",
      "1.0 0.8504405459901019\n",
      "0.0 0.18201568170267707\n",
      "1.0 0.9996268228439587\n",
      "1.0 0.9344360124666021\n",
      "1.0 0.9344360124666021\n",
      "1.0 0.9344360124666021\n",
      "1.0 0.9344360124666021\n",
      "0.0 0.06095362917954259\n",
      "1.0 0.7037675082376595\n",
      "1.0 0.7037675082376595\n",
      "0.0 0.016885793400149406\n",
      "1.0 0.9438618539943893\n",
      "0.0 0.030080645263815348\n",
      "0.0 0.06042088750516973\n",
      "1.0 0.9701429975869512\n",
      "0.0 0.09271842953253677\n",
      "0.0 0.09271842953253677\n",
      "0.0 0.09271842953253677\n",
      "1.0 0.9241313769861466\n",
      "1.0 0.9241313769861466\n",
      "1.0 0.9241313769861466\n",
      "1.0 0.9145334903436285\n",
      "1.0 0.9241313769861466\n",
      "0.0 0.08819629372449561\n",
      "1.0 0.9272849492150829\n",
      "0.0 0.14210101487339438\n",
      "0.0 0.07239619449740925\n",
      "0.0 0.07239619449740925\n",
      "0.0 0.07809817481767217\n",
      "0.0 0.019839301194382264\n",
      "1.0 0.9440229594727012\n",
      "0.0 0.037296983479430154\n",
      "0.0 0.037296983479430154\n",
      "0.0 0.07287374257538966\n",
      "0.0 0.11047598002100262\n",
      "0.0 0.11586104886001626\n",
      "1.0 0.8174318363728416\n",
      "0.0 0.014248116423970203\n",
      "1.0 0.8776816519226639\n",
      "0.0 0.07054728943236738\n",
      "0.0 0.022879672269865613\n",
      "1.0 0.8776816519226639\n",
      "0.0 0.00029390618630678253\n",
      "1.0 0.9412299601385237\n",
      "0.0 0.06684903240437068\n",
      "0.0 0.05073947277765771\n",
      "1.0 0.7780222736922007\n",
      "1.0 0.7139925824873105\n",
      "0.0 0.002120486331047698\n",
      "0.0 0.029108275664388904\n",
      "1.0 0.972099991234662\n",
      "0.0 0.029108275664388904\n",
      "0.0 0.013473010285733208\n",
      "0.0 1.834865021105967e-05\n",
      "0.0 0.017691891372045538\n",
      "0.0 0.06324277709482068\n",
      "1.0 0.8795425150755277\n",
      "1.0 0.9287826332785774\n"
     ]
    }
   ],
   "source": [
    "for i in range(100):\n",
    "    print(val_y[i], h(norm_val_x[i], theta))"
   ]
  },
  {
   "cell_type": "code",
   "execution_count": null,
   "metadata": {},
   "outputs": [],
   "source": []
  }
 ],
 "metadata": {
  "kernelspec": {
   "display_name": "Python 3",
   "language": "python",
   "name": "python3"
  },
  "language_info": {
   "codemirror_mode": {
    "name": "ipython",
    "version": 3
   },
   "file_extension": ".py",
   "mimetype": "text/x-python",
   "name": "python",
   "nbconvert_exporter": "python",
   "pygments_lexer": "ipython3",
   "version": "3.7.2"
  }
 },
 "nbformat": 4,
 "nbformat_minor": 2
}
